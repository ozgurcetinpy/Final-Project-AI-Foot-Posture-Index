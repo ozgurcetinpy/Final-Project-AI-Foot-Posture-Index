{
 "cells": [
  {
   "cell_type": "code",
   "execution_count": 6,
   "metadata": {},
   "outputs": [
    {
     "name": "stdout",
     "output_type": "stream",
     "text": [
      "0: 0 tane\n",
      "1: 0 tane\n",
      "2: 0 tane\n",
      "3: 0 tane\n",
      "4: 0 tane\n"
     ]
    }
   ],
   "source": [
    "import os\n",
    "from collections import Counter\n",
    "import yaml\n",
    "\n",
    "# YAML dosyalarının bulunduğu klasör yolu\n",
    "klasor_yolu = r'C:\\Users\\ozgur\\Bitirme\\YoloV8\\YoloV8\\all_photos_cutted_resized\\Model_2\\ayristirma\\labels'\n",
    "\n",
    "# Dosya uzantısı kontrolü için geçerli uzantılar\n",
    "gecerli_uzantilar = ['.yaml', '.yml']\n",
    "\n",
    "# İlk değerleri saklamak için bir sayaç oluştur\n",
    "sayac = Counter()\n",
    "\n",
    "# Klasördeki her dosyayı kontrol et\n",
    "for dosya_adı in os.listdir(klasor_yolu):\n",
    "    dosya_yolu = os.path.join(klasor_yolu, dosya_adı)\n",
    "    \n",
    "    # YAML dosyalarını kontrol et\n",
    "    if os.path.isfile(dosya_yolu) and os.path.splitext(dosya_adı)[1] in gecerli_uzantilar:\n",
    "        with open(dosya_yolu, 'r') as dosya:\n",
    "            try:\n",
    "                yaml_icerik = yaml.safe_load(dosya)\n",
    "                \n",
    "                # İlk değeri al ve say\n",
    "                if len(yaml_icerik) > 0:\n",
    "                    ilk_deger = str(yaml_icerik[0]).split()[0]\n",
    "                    sayac[ilk_deger] += 1\n",
    "            except yaml.YAMLError as hata:\n",
    "                print(f\"Hata: {dosya_yolu} dosyasını okurken bir YAML hatası oluştu: {hata}\")\n",
    "\n",
    "# Her bir değerin sayısını ekrana yazdır\n",
    "for deger in range(5):\n",
    "    sayi = sayac[str(deger)]\n",
    "    print(f\"{deger}: {sayi} tane\")\n",
    "\n"
   ]
  },
  {
   "cell_type": "code",
   "execution_count": null,
   "metadata": {},
   "outputs": [],
   "source": []
  }
 ],
 "metadata": {
  "kernelspec": {
   "display_name": "Python 3",
   "language": "python",
   "name": "python3"
  },
  "language_info": {
   "codemirror_mode": {
    "name": "ipython",
    "version": 3
   },
   "file_extension": ".py",
   "mimetype": "text/x-python",
   "name": "python",
   "nbconvert_exporter": "python",
   "pygments_lexer": "ipython3",
   "version": "3.9.6"
  },
  "orig_nbformat": 4
 },
 "nbformat": 4,
 "nbformat_minor": 2
}
