{
 "cells": [
  {
   "cell_type": "code",
   "execution_count": 1,
   "metadata": {},
   "outputs": [],
   "source": [
    "import os\n",
    "\n",
    "project_folder = r\"C:\\Users\\ozgur\\Desktop\\Final Project\\Bitirme Projesi\\Fotoğraflar\"\n",
    "spectrogram_folder = os.path.join(project_folder, '5_height_and_congruence_of_the_medial_longitudinal_arch')"
   ]
  },
  {
   "cell_type": "code",
   "execution_count": 7,
   "metadata": {},
   "outputs": [],
   "source": [
    "import cv2\n",
    "\n",
    "IMG_HEIGHT = 64\n",
    "IMG_WIDTH = 64\n",
    "dataset = []\n",
    "\n",
    "def get_images_labels(file_folder):\n",
    "  for root, directory, filenames in os.walk(file_folder):\n",
    "    for filename in filenames:\n",
    "      if filename.endswith(\"jpg\"):\n",
    "        read_images = cv2.imread(os.path.join(root, filename), 1)  # 0: cv2.IMREAD_GRAYSCALE; 1: cv2.IMREAD_COLOR; -1: cv2.IMREAD_UNCHANGED                                          \n",
    "        read_images = cv2.resize(read_images, dsize=(IMG_WIDTH, IMG_HEIGHT))  # resizing; interpolation=cv2.INTER_AREA\n",
    "        read_images = cv2.cvtColor(read_images, cv2.COLOR_BGR2GRAY)  #grayscaling\n",
    "        label_name = os.path.basename(root)\n",
    "        grayscale_images = read_images / 255  # normalizing\n",
    "        dataset.append([grayscale_images, label_name])\n",
    "  return dataset"
   ]
  },
  {
   "cell_type": "code",
   "execution_count": 15,
   "metadata": {},
   "outputs": [
    {
     "ename": "error",
     "evalue": "OpenCV(4.7.0) :-1: error: (-5:Bad argument) in function 'imshow'\n> Overload resolution failed:\n>  - imshow() missing required argument 'mat' (pos 2)\n>  - imshow() missing required argument 'mat' (pos 2)\n>  - imshow() missing required argument 'mat' (pos 2)\n",
     "output_type": "error",
     "traceback": [
      "\u001b[1;31m---------------------------------------------------------------------------\u001b[0m",
      "\u001b[1;31merror\u001b[0m                                     Traceback (most recent call last)",
      "Cell \u001b[1;32mIn[15], line 5\u001b[0m\n\u001b[0;32m      3\u001b[0m \u001b[39mif\u001b[39;00m filename\u001b[39m.\u001b[39mendswith(\u001b[39m\"\u001b[39m\u001b[39mjpg\u001b[39m\u001b[39m\"\u001b[39m):\n\u001b[0;32m      4\u001b[0m   read_images \u001b[39m=\u001b[39m cv2\u001b[39m.\u001b[39mimread(os\u001b[39m.\u001b[39mpath\u001b[39m.\u001b[39mjoin(root, filename), \u001b[39m1\u001b[39m)\n\u001b[1;32m----> 5\u001b[0m   cv2\u001b[39m.\u001b[39;49mimshow(read_images)\n",
      "\u001b[1;31merror\u001b[0m: OpenCV(4.7.0) :-1: error: (-5:Bad argument) in function 'imshow'\n> Overload resolution failed:\n>  - imshow() missing required argument 'mat' (pos 2)\n>  - imshow() missing required argument 'mat' (pos 2)\n>  - imshow() missing required argument 'mat' (pos 2)\n"
     ]
    }
   ],
   "source": [
    "for root, directory, filenames in os.walk(spectrogram_folder):\n",
    "    for filename in filenames:\n",
    "      if filename.endswith(\"jpg\"):\n",
    "        read_images = cv2.imread(os.path.join(root, filename), 1)\n",
    "        cv2.imshow(read_images)"
   ]
  },
  {
   "cell_type": "code",
   "execution_count": 13,
   "metadata": {},
   "outputs": [
    {
     "ename": "TypeError",
     "evalue": "unsupported operand type(s) for /: 'NoneType' and 'int'",
     "output_type": "error",
     "traceback": [
      "\u001b[1;31m---------------------------------------------------------------------------\u001b[0m",
      "\u001b[1;31mTypeError\u001b[0m                                 Traceback (most recent call last)",
      "Cell \u001b[1;32mIn[13], line 7\u001b[0m\n\u001b[0;32m      5\u001b[0m \u001b[39m# read_images = cv2.cvtColor(read_images, cv2.COLOR_BGR2GRAY)  #grayscaling\u001b[39;00m\n\u001b[0;32m      6\u001b[0m label_name \u001b[39m=\u001b[39m os\u001b[39m.\u001b[39mpath\u001b[39m.\u001b[39mbasename(root)\n\u001b[1;32m----> 7\u001b[0m grayscale_images \u001b[39m=\u001b[39m read_images \u001b[39m/\u001b[39;49m \u001b[39m255\u001b[39;49m  \u001b[39m# normalizing\u001b[39;00m\n\u001b[0;32m      8\u001b[0m dataset\u001b[39m.\u001b[39mappend([grayscale_images, label_name])\n",
      "\u001b[1;31mTypeError\u001b[0m: unsupported operand type(s) for /: 'NoneType' and 'int'"
     ]
    }
   ],
   "source": [
    "for root, directory, filenames in os.walk(spectrogram_folder):\n",
    "    for filename in filenames:\n",
    "      if filename.endswith(\"jpg\"):\n",
    "        read_images = cv2.imread(os.path.join(root, filename), 1)  # 0: cv2.IMREAD_GRAYSCALE; 1: cv2.IMREAD_COLOR; -1: cv2.IMREAD_UNCHANGED                                          \n",
    "        # read_images = cv2.cvtColor(read_images, cv2.COLOR_BGR2GRAY)  #grayscaling\n",
    "        label_name = os.path.basename(root)\n",
    "        grayscale_images = read_images / 255  # normalizing\n",
    "        dataset.append([grayscale_images, label_name])"
   ]
  },
  {
   "cell_type": "code",
   "execution_count": null,
   "metadata": {},
   "outputs": [],
   "source": []
  },
  {
   "cell_type": "code",
   "execution_count": 8,
   "metadata": {},
   "outputs": [
    {
     "ename": "error",
     "evalue": "OpenCV(4.7.0) D:\\a\\opencv-python\\opencv-python\\opencv\\modules\\imgproc\\src\\resize.cpp:4062: error: (-215:Assertion failed) !ssize.empty() in function 'cv::resize'\n",
     "output_type": "error",
     "traceback": [
      "\u001b[1;31m---------------------------------------------------------------------------\u001b[0m",
      "\u001b[1;31merror\u001b[0m                                     Traceback (most recent call last)",
      "Cell \u001b[1;32mIn[8], line 6\u001b[0m\n\u001b[0;32m      3\u001b[0m \u001b[39mfrom\u001b[39;00m \u001b[39msklearn\u001b[39;00m\u001b[39m.\u001b[39;00m\u001b[39mmodel_selection\u001b[39;00m \u001b[39mimport\u001b[39;00m train_test_split\n\u001b[0;32m      5\u001b[0m encoder \u001b[39m=\u001b[39m LabelEncoder()\n\u001b[1;32m----> 6\u001b[0m obj_data \u001b[39m=\u001b[39m get_images_labels(spectrogram_folder)\n\u001b[0;32m      8\u001b[0m image_data \u001b[39m=\u001b[39m np\u001b[39m.\u001b[39marray([obj_data[image_loc][\u001b[39m0\u001b[39m] \u001b[39mfor\u001b[39;00m image_loc \u001b[39min\u001b[39;00m \u001b[39mrange\u001b[39m(\u001b[39mlen\u001b[39m(obj_data))])\n",
      "Cell \u001b[1;32mIn[7], line 12\u001b[0m, in \u001b[0;36mget_images_labels\u001b[1;34m(file_folder)\u001b[0m\n\u001b[0;32m     10\u001b[0m \u001b[39mif\u001b[39;00m filename\u001b[39m.\u001b[39mendswith(\u001b[39m\"\u001b[39m\u001b[39mjpg\u001b[39m\u001b[39m\"\u001b[39m):\n\u001b[0;32m     11\u001b[0m   read_images \u001b[39m=\u001b[39m cv2\u001b[39m.\u001b[39mimread(os\u001b[39m.\u001b[39mpath\u001b[39m.\u001b[39mjoin(root, filename), \u001b[39m1\u001b[39m)  \u001b[39m# 0: cv2.IMREAD_GRAYSCALE; 1: cv2.IMREAD_COLOR; -1: cv2.IMREAD_UNCHANGED                                          \u001b[39;00m\n\u001b[1;32m---> 12\u001b[0m   read_images \u001b[39m=\u001b[39m cv2\u001b[39m.\u001b[39;49mresize(read_images, dsize\u001b[39m=\u001b[39;49m(IMG_WIDTH, IMG_HEIGHT))  \u001b[39m# resizing; interpolation=cv2.INTER_AREA\u001b[39;00m\n\u001b[0;32m     13\u001b[0m   read_images \u001b[39m=\u001b[39m cv2\u001b[39m.\u001b[39mcvtColor(read_images, cv2\u001b[39m.\u001b[39mCOLOR_BGR2GRAY)  \u001b[39m#grayscaling\u001b[39;00m\n\u001b[0;32m     14\u001b[0m   label_name \u001b[39m=\u001b[39m os\u001b[39m.\u001b[39mpath\u001b[39m.\u001b[39mbasename(root)\n",
      "\u001b[1;31merror\u001b[0m: OpenCV(4.7.0) D:\\a\\opencv-python\\opencv-python\\opencv\\modules\\imgproc\\src\\resize.cpp:4062: error: (-215:Assertion failed) !ssize.empty() in function 'cv::resize'\n"
     ]
    }
   ],
   "source": [
    "import numpy as np\n",
    "from sklearn.preprocessing import LabelEncoder\n",
    "from sklearn.model_selection import train_test_split\n",
    "\n",
    "encoder = LabelEncoder()\n",
    "obj_data = get_images_labels(spectrogram_folder)\n",
    "\n"
   ]
  },
  {
   "cell_type": "code",
   "execution_count": 6,
   "metadata": {},
   "outputs": [
    {
     "data": {
      "text/plain": [
       "0"
      ]
     },
     "execution_count": 6,
     "metadata": {},
     "output_type": "execute_result"
    }
   ],
   "source": [
    "len(obj_data)"
   ]
  },
  {
   "cell_type": "code",
   "execution_count": 9,
   "metadata": {},
   "outputs": [],
   "source": [
    "import numpy as np\n",
    "from sklearn.preprocessing import LabelEncoder\n",
    "from sklearn.model_selection import train_test_split\n",
    "\n",
    "def data_preprocessing():\n",
    "  encoder = LabelEncoder()\n",
    "  obj_data = get_images_labels(spectrogram_folder)\n",
    "\n",
    "  image_data = np.array([obj_data[image_loc][0] for image_loc in range(len(obj_data))])\n",
    "  image_data = image_data.reshape(image_data.shape[0], image_data.shape[1], image_data.shape[2], 1)\n",
    "\n",
    "  label_data = np.array([obj_data[image_loc][1] for image_loc in range(len(obj_data))])\n",
    "  label_data = encoder.fit_transform(label_data)\n",
    "\n",
    "  X_train, X_test, y_train, y_test = train_test_split(image_data, label_data, train_size=0.87, random_state=42)\n",
    "\n",
    "  X_val = X_train[6460:]\n",
    "  y_val = y_train[6460:]\n",
    "  X_train = X_train[:6460]\n",
    "  y_train = y_train[:6460]\n",
    "\n",
    "  return X_train, X_test, X_val, y_train, y_test, y_val"
   ]
  },
  {
   "cell_type": "code",
   "execution_count": 10,
   "metadata": {},
   "outputs": [
    {
     "ename": "error",
     "evalue": "OpenCV(4.7.0) D:\\a\\opencv-python\\opencv-python\\opencv\\modules\\imgproc\\src\\resize.cpp:4062: error: (-215:Assertion failed) !ssize.empty() in function 'cv::resize'\n",
     "output_type": "error",
     "traceback": [
      "\u001b[1;31m---------------------------------------------------------------------------\u001b[0m",
      "\u001b[1;31merror\u001b[0m                                     Traceback (most recent call last)",
      "Cell \u001b[1;32mIn[10], line 1\u001b[0m\n\u001b[1;32m----> 1\u001b[0m x_train, x_test, x_val, y_train, y_test, y_val \u001b[39m=\u001b[39m data_preprocessing()\n",
      "Cell \u001b[1;32mIn[9], line 7\u001b[0m, in \u001b[0;36mdata_preprocessing\u001b[1;34m()\u001b[0m\n\u001b[0;32m      5\u001b[0m \u001b[39mdef\u001b[39;00m \u001b[39mdata_preprocessing\u001b[39m():\n\u001b[0;32m      6\u001b[0m   encoder \u001b[39m=\u001b[39m LabelEncoder()\n\u001b[1;32m----> 7\u001b[0m   obj_data \u001b[39m=\u001b[39m get_images_labels(spectrogram_folder)\n\u001b[0;32m      9\u001b[0m   image_data \u001b[39m=\u001b[39m np\u001b[39m.\u001b[39marray([obj_data[image_loc][\u001b[39m0\u001b[39m] \u001b[39mfor\u001b[39;00m image_loc \u001b[39min\u001b[39;00m \u001b[39mrange\u001b[39m(\u001b[39mlen\u001b[39m(obj_data))])\n\u001b[0;32m     10\u001b[0m   image_data \u001b[39m=\u001b[39m image_data\u001b[39m.\u001b[39mreshape(image_data\u001b[39m.\u001b[39mshape[\u001b[39m0\u001b[39m], image_data\u001b[39m.\u001b[39mshape[\u001b[39m1\u001b[39m], image_data\u001b[39m.\u001b[39mshape[\u001b[39m2\u001b[39m], \u001b[39m1\u001b[39m)\n",
      "Cell \u001b[1;32mIn[7], line 12\u001b[0m, in \u001b[0;36mget_images_labels\u001b[1;34m(file_folder)\u001b[0m\n\u001b[0;32m     10\u001b[0m \u001b[39mif\u001b[39;00m filename\u001b[39m.\u001b[39mendswith(\u001b[39m\"\u001b[39m\u001b[39mjpg\u001b[39m\u001b[39m\"\u001b[39m):\n\u001b[0;32m     11\u001b[0m   read_images \u001b[39m=\u001b[39m cv2\u001b[39m.\u001b[39mimread(os\u001b[39m.\u001b[39mpath\u001b[39m.\u001b[39mjoin(root, filename), \u001b[39m1\u001b[39m)  \u001b[39m# 0: cv2.IMREAD_GRAYSCALE; 1: cv2.IMREAD_COLOR; -1: cv2.IMREAD_UNCHANGED                                          \u001b[39;00m\n\u001b[1;32m---> 12\u001b[0m   read_images \u001b[39m=\u001b[39m cv2\u001b[39m.\u001b[39;49mresize(read_images, dsize\u001b[39m=\u001b[39;49m(IMG_WIDTH, IMG_HEIGHT))  \u001b[39m# resizing; interpolation=cv2.INTER_AREA\u001b[39;00m\n\u001b[0;32m     13\u001b[0m   read_images \u001b[39m=\u001b[39m cv2\u001b[39m.\u001b[39mcvtColor(read_images, cv2\u001b[39m.\u001b[39mCOLOR_BGR2GRAY)  \u001b[39m#grayscaling\u001b[39;00m\n\u001b[0;32m     14\u001b[0m   label_name \u001b[39m=\u001b[39m os\u001b[39m.\u001b[39mpath\u001b[39m.\u001b[39mbasename(root)\n",
      "\u001b[1;31merror\u001b[0m: OpenCV(4.7.0) D:\\a\\opencv-python\\opencv-python\\opencv\\modules\\imgproc\\src\\resize.cpp:4062: error: (-215:Assertion failed) !ssize.empty() in function 'cv::resize'\n"
     ]
    }
   ],
   "source": [
    "x_train, x_test, x_val, y_train, y_test, y_val = data_preprocessing()"
   ]
  },
  {
   "cell_type": "code",
   "execution_count": null,
   "metadata": {},
   "outputs": [],
   "source": [
    "print(x_train.shape, x_val.shape)\n",
    "print(y_train.shape, y_val.shape)\n",
    "\n",
    "# Print the lengths of the each dataset\n",
    "print(f\"\\nX_train: {len(x_train)}\")\n",
    "print(f\"y_train: {len(y_train)}\")\n",
    "print(f\"X_val: {len(x_val)}\")\n",
    "print(f\"y_val: {len(y_val)}\")\n",
    "print(f\"x_test: {len(x_test)}\")\n",
    "print(f\"y_test: {len(y_test)}\")"
   ]
  },
  {
   "cell_type": "code",
   "execution_count": null,
   "metadata": {},
   "outputs": [],
   "source": [
    "import tensorflow as tf\n",
    "from tensorflow.keras.layers import Conv2D, MaxPooling2D, Flatten, Dense, Dropout\n",
    "from tensorflow.keras import Sequential,optimizers\n",
    "\n",
    "\n",
    "def create_model(kernel_size: tuple, input_shape: tuple):\n",
    "  model = Sequential()\n",
    "  model.add(Conv2D(IMG_WIDTH,\n",
    "                  kernel_size=kernel_size,\n",
    "                  strides=(1,1),\n",
    "                  padding=\"same\",\n",
    "                  activation=\"relu\",\n",
    "                  input_shape=input_shape)           \n",
    "  )\n",
    "  model.add(MaxPooling2D((2,2)))\n",
    "  model.add(Conv2D(IMG_WIDTH/2,\n",
    "                  kernel_size=kernel_size,\n",
    "                  strides=(1,1),\n",
    "                  padding=\"same\",\n",
    "                  activation=\"relu\",\n",
    "                  input_shape=input_shape)           \n",
    "  )\n",
    "\n",
    "  model.add(Flatten())\n",
    "  model.add(Dense(64, activation='relu')),\n",
    "  model.add(Dropout(0.4))\n",
    "  model.add(Dense(64, activation='relu'))\n",
    "  model.add(Dropout(0.4))\n",
    "  model.add(Dense(10, activation='softmax'))\n",
    "\n",
    "  model.compile(optimizer=optimizers.Adam(lr=0.0001), loss=\"sparse_categorical_crossentropy\", metrics=['accuracy'])\n",
    "  # tf.keras.losses.SparseCategoricalCrossentropy(from_logits=True)\n",
    "  return model"
   ]
  },
  {
   "cell_type": "code",
   "execution_count": null,
   "metadata": {},
   "outputs": [],
   "source": [
    "my_model = create_model((3, 3), (IMG_WIDTH, IMG_HEIGHT, 1))\n",
    "results = my_model.fit(x_train, y_train,\n",
    "                    epochs=50,\n",
    "                    batch_size=32,\n",
    "                    validation_data = (x_val, y_val))"
   ]
  },
  {
   "cell_type": "code",
   "execution_count": null,
   "metadata": {},
   "outputs": [],
   "source": [
    "import matplotlib.pyplot as plt\n",
    "\n",
    "plt.plot(results.history[\"loss\"], label=\"Loss\")\n",
    "plt.plot(results.history[\"val_loss\"], label=\"val_loss\")\n",
    "plt.xlabel(\"Epoch\")\n",
    "plt.ylabel(\"Loss\")\n",
    "plt.legend()\n",
    "plt.show()"
   ]
  },
  {
   "cell_type": "code",
   "execution_count": null,
   "metadata": {},
   "outputs": [],
   "source": [
    "plt.plot(results.history[\"accuracy\"], label=\"Accuracy\")\n",
    "plt.plot(results.history[\"val_accuracy\"], label=\"val_accuracy\")\n",
    "plt.xlabel(\"Epoch\")\n",
    "plt.ylabel(\"Accuracy\")\n",
    "plt.legend()\n",
    "plt.show()"
   ]
  },
  {
   "cell_type": "code",
   "execution_count": null,
   "metadata": {},
   "outputs": [],
   "source": [
    "# Evaluate the performance\n",
    "my_model.evaluate(x_test, y_test)"
   ]
  },
  {
   "cell_type": "code",
   "execution_count": null,
   "metadata": {},
   "outputs": [],
   "source": [
    "prediction_result = my_model.predict(x_test[545].reshape(1,IMG_WIDTH,IMG_HEIGHT,1))\n",
    "plt.imshow(prediction_result)\n",
    "print(prediction_result)"
   ]
  },
  {
   "cell_type": "code",
   "execution_count": null,
   "metadata": {},
   "outputs": [],
   "source": [
    "predicted_folder = prediction_result.argmax()\n",
    "predicted_probability = prediction_result.max()"
   ]
  },
  {
   "cell_type": "code",
   "execution_count": null,
   "metadata": {},
   "outputs": [],
   "source": [
    "print(f\"This image belongs to folder {predicted_folder} with {predicted_probability}% probability\")"
   ]
  }
 ],
 "metadata": {
  "kernelspec": {
   "display_name": "Python 3",
   "language": "python",
   "name": "python3"
  },
  "language_info": {
   "codemirror_mode": {
    "name": "ipython",
    "version": 3
   },
   "file_extension": ".py",
   "mimetype": "text/x-python",
   "name": "python",
   "nbconvert_exporter": "python",
   "pygments_lexer": "ipython3",
   "version": "3.11.2"
  },
  "orig_nbformat": 4
 },
 "nbformat": 4,
 "nbformat_minor": 2
}
