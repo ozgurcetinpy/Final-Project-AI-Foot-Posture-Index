{
 "cells": [
  {
   "cell_type": "code",
   "execution_count": 1,
   "metadata": {},
   "outputs": [],
   "source": [
    "import torch\n",
    "from pathlib import Path\n",
    "import cv2\n",
    "import torchvision\n",
    "import yaml\n",
    "import seaborn\n",
    "import matplotlib.pyplot as plt\n",
    "import pandas as pd\n",
    "import numpy as np"
   ]
  },
  {
   "cell_type": "code",
   "execution_count": 1,
   "metadata": {},
   "outputs": [],
   "source": [
    "from ultralytics import YOLO\n",
    "import cv2\n",
    "model_yolov8x_5class = YOLO(r\"C:\\Users\\ozgur\\bitirmeprojesi\\model\\weights_heel_995.pt\")"
   ]
  },
  {
   "cell_type": "code",
   "execution_count": 2,
   "metadata": {},
   "outputs": [
    {
     "name": "stderr",
     "output_type": "stream",
     "text": [
      "\n",
      "0: 224x160 2 topuks, 356.2ms\n",
      "Speed: 0.0ms preprocess, 356.2ms inference, 1.5ms postprocess per image at shape (1, 3, 224, 224)\n"
     ]
    },
    {
     "name": "stdout",
     "output_type": "stream",
     "text": [
      "Ref: (239, 614)\n",
      "Sol Ref: (109, 508)\n",
      "Sag Ref: (370, 508)\n",
      "Sol Kenar Uzunlugu: 221\n",
      "Sağ Kenar Uzunluğu: 252\n"
     ]
    }
   ],
   "source": [
    "import cv2\n",
    "import numpy as np\n",
    "from ultralytics import YOLO\n",
    "\n",
    "# YOLO modelini yükle\n",
    "model_yolov8x_5class = YOLO(r\"C:\\Users\\ozgur\\bitirmeprojesi\\model\\weights_heel_995.pt\")\n",
    "\n",
    "# Resim dosyasını oku\n",
    "img = cv2.imread(r\"C:\\Users\\ozgur\\bitirmeprojesi\\YoloV8\\all_photos_cutted_resized\\Model_Heel\\Examples\\-1_sol.jpg\")\n",
    "\n",
    "# YOLO modeli ile nesne tespiti yap\n",
    "results = model_yolov8x_5class(img)\n",
    "result = results[0]\n",
    "box = result.boxes.xyxy\n",
    "\n",
    "# Bounding box sınırlarını al\n",
    "boxes = box[0]\n",
    "xmin = int(boxes[0])\n",
    "ymin = int(boxes[1])\n",
    "xmax = int(boxes[2])\n",
    "ymax = int(boxes[3])\n",
    "cv2.rectangle(img, (int(xmin), int(ymin)), (int(xmax), int(ymax)), (0, 255, 0), 2)\n",
    "\n",
    "# Alt kenarı iki parçaya böl\n",
    "x_mid = int((xmin + xmax) / 2)\n",
    "y_mid = ymax\n",
    "cv2.circle(img, (x_mid, y_mid), 5, (255, 0, 0), -1)\n",
    "\n",
    "# Sol kenarın orta noktasını belirle\n",
    "x_left = xmin\n",
    "y_left = int((ymin + ymax) / 2)\n",
    "cv2.circle(img, (x_left, y_left), 5, (0, 0, 255), -1)\n",
    "\n",
    "# Sağ kenarın orta noktasını belirle\n",
    "x_right = xmax\n",
    "y_right = int((ymin + ymax) / 2)\n",
    "cv2.circle(img, (x_right, y_right), 5, (0, 0, 255), -1)\n",
    "\n",
    "# Alt kenardaki iki parçanın canny edge detection ile kenarlarını belirle ve uzunluklarını hesapla\n",
    "gray = cv2.cvtColor(img, cv2.COLOR_BGR2GRAY)\n",
    "edges = cv2.Canny(gray, 50, 150, apertureSize=3)\n",
    "left_edge = edges[y_mid-10:y_mid+10, xmin:x_mid]\n",
    "right_edge = edges[y_mid-10:y_mid+10, x_mid:xmax]\n",
    "left_len = np.sum(left_edge) // 255\n",
    "right_len = np.sum(right_edge) // 255\n",
    "cv2.line(img, (xmin, y_mid), (x_mid, y_mid), (0, 0, 255), 2)\n",
    "cv2.line(img, (x_mid, y_mid), (xmax, y_mid), (0, 0, 255), 2)\n",
    "\n",
    "# Sonuçları göster\n",
    "print(\"Ref:\", (x_mid, y_mid))\n",
    "print(\"Sol Ref:\", (x_left, y_left))\n",
    "print(\"Sag Ref:\", (x_right, y_right))\n",
    "print(\"Sol Kenar Uzunlugu:\", left_len)\n",
    "\n",
    "print(\"Sağ Kenar Uzunluğu:\", right_len)"
   ]
  },
  {
   "cell_type": "code",
   "execution_count": 84,
   "metadata": {},
   "outputs": [
    {
     "name": "stderr",
     "output_type": "stream",
     "text": [
      "\n",
      "0: 416x320 1 ayak, 813.5ms\n",
      "Speed: 1.1ms preprocess, 813.5ms inference, 1.0ms postprocess per image at shape (1, 3, 416, 416)\n"
     ]
    },
    {
     "name": "stdout",
     "output_type": "stream",
     "text": [
      "-297\n",
      "0\n"
     ]
    }
   ],
   "source": [
    "from ultralytics import YOLO\n",
    "import cv2\n",
    "\n",
    "# Define YOLO model\n",
    "model_yolov8x = YOLO(r\"C:\\Users\\ozgur\\bitirmeprojesi\\model\\model_foot_all.pt\")\n",
    "\n",
    "# Load image\n",
    "img = cv2.imread(r\"C:\\Users\\ozgur\\bitirmeprojesi\\YoloV8\\all_photos_cutted\\6_abduction_of_the_forefoot_on_the_rearfoot\\0\\0_3.jpg\")\n",
    "results = model_yolov8x(img)\n",
    "result = results[0]\n",
    "box = result.boxes.xyxy\n",
    "boxes = box[0]\n",
    "xmin = int(boxes[0])\n",
    "ymin = int(boxes[1])\n",
    "xmax = int(boxes[2])\n",
    "ymax = int(boxes[3])\n",
    "# Compute center of the image\n",
    "center = (xmin + xmax) // 2\n",
    "\n",
    "# Divide the upper half of the image into three parts\n",
    "third = (ymax - ymin) // 3\n",
    "\n",
    "# Define the boundaries of the left and right boxes\n",
    "left_box = [xmin, ymin, center, ymin + third]\n",
    "right_box = [center, ymin, xmax, ymin + third]\n",
    "\n",
    "# Crop the left and right boxes from the image\n",
    "left_img = img[left_box[1]:left_box[3], left_box[0]:left_box[2]]\n",
    "right_img = img[right_box[1]:right_box[3], right_box[0]:right_box[2]]\n",
    "\n",
    "# Compute the number of unique pixels in the left and right boxes\n",
    "left_pixels = np.unique(left_img.reshape(-1, left_img.shape[2]), axis=0).shape[0]\n",
    "right_pixels = np.unique(right_img.reshape(-1, right_img.shape[2]), axis=0).shape[0]\n",
    "\n",
    "# Compute the difference between the number of unique pixels in the left and right boxes\n",
    "diff = left_pixels - right_pixels\n",
    "print(diff)\n",
    "if diff >= 1200:\n",
    "    class_name = '-2'\n",
    "elif diff <1200 and diff > 500:\n",
    "    class_name = '-1'\n",
    "elif diff < 500 and diff > -500:\n",
    "    class_name = '0'\n",
    "elif diff <-500 and diff > -1200:\n",
    "    class_name = '1'\n",
    "elif diff <= -1200:\n",
    "    class_name = '2'\n",
    "    \n",
    "print(class_name)\n",
    "\n",
    "# Draw the left and right boxes on the original image\n",
    "cv2.rectangle(img, (left_box[0], left_box[1]), (left_box[2], left_box[3]), (0, 255, 0), 2)\n",
    "cv2.rectangle(img, (right_box[0], right_box[1]), (right_box[2], right_box[3]), (0, 0, 255), 2)\n",
    "\n",
    "# Show the original image with the left and right boxes drawn\n",
    "cv2.imshow(\"Image\", img)\n",
    "cv2.waitKey(0)\n",
    "cv2.destroyAllWindows()\n"
   ]
  },
  {
   "attachments": {},
   "cell_type": "markdown",
   "metadata": {},
   "source": [
    "# Heel- 4"
   ]
  },
  {
   "attachments": {},
   "cell_type": "markdown",
   "metadata": {},
   "source": [
    "##  model 6 image processing"
   ]
  },
  {
   "cell_type": "code",
   "execution_count": 77,
   "metadata": {},
   "outputs": [
    {
     "name": "stderr",
     "output_type": "stream",
     "text": [
      "\n",
      "0: 416x288 1 ayak, 982.5ms\n",
      "Speed: 0.0ms preprocess, 982.5ms inference, 1.0ms postprocess per image at shape (1, 3, 416, 416)\n"
     ]
    },
    {
     "name": "stdout",
     "output_type": "stream",
     "text": [
      "0\n",
      "Class:  0\n"
     ]
    }
   ],
   "source": [
    "from ultralytics import YOLO\n",
    "import cv2\n",
    "\n",
    "model_yolov8x = YOLO(r\"C:\\Users\\ozgur\\bitirmeprojesi\\model\\model_foot_all.pt\")\n",
    "\n",
    "img = cv2.imread(r\"C:\\Users\\ozgur\\bitirmeprojesi\\YoloV8\\all_photos_cutted\\6_image_process\\ex\\-1_1.jpg\")\n",
    "\n",
    "results = model_yolov8x(img)\n",
    "result = results[0]\n",
    "box = result.boxes.xyxy\n",
    "\n",
    "try:\n",
    "    boxes = box[0]\n",
    "    xmin = int(boxes[0])\n",
    "    ymin = int(boxes[1])\n",
    "    xmax = int(boxes[2])\n",
    "    ymax = int(boxes[3])\n",
    "    \n",
    "    width = xmax - xmin\n",
    "    mid = (xmin + xmax) // 2\n",
    "    left_half = img[ymin:ymax, xmin:mid]\n",
    "    right_half = img[ymin:ymax, mid:xmax]\n",
    "\n",
    "    cv2.imshow(\"Left Half\", left_half)\n",
    "    cv2.imshow(\"Right Half\", right_half)\n",
    "\n",
    "    # Her yarı kutuda ayağa ait piksel sayısını hesapla\n",
    "    left_count = cv2.countNonZero(cv2.cvtColor(left_half, cv2.COLOR_BGR2GRAY))\n",
    "    right_count = cv2.countNonZero(cv2.cvtColor(right_half, cv2.COLOR_BGR2GRAY))\n",
    "\n",
    "    diff = left_count-right_count\n",
    "    print(diff)\n",
    "    # Ayağın hangi tarafa ait olduğunu belirle ve farkları ekrana yazdır\n",
    "    if  diff < -700:\n",
    "        class_name = '-2'\n",
    "    elif diff >= -700 and diff < -100:\n",
    "        class_name = '-1'\n",
    "    elif diff >= -100 and diff <= 100:\n",
    "        class_name = '0'\n",
    "    elif diff > 100 and diff < 700:\n",
    "        class_name = '1'\n",
    "    elif diff >= 700:\n",
    "        class_name = '2'\n",
    "\n",
    "    # Kutuyu göster\n",
    "    resized_image = cv2.resize(img, (0, 0), fx=0.5, fy=0.5)\n",
    "    cv2.rectangle(img, (int(xmin), int(ymin)), (int(xmax), int(ymax)), (0, 255, 0), 2)\n",
    "    cv2.imshow(\"Image\",img)\n",
    "    cv2.waitKey(0)\n",
    "    cv2.destroyAllWindows()\n",
    "    print(\"Class: \", class_name)\n",
    "except IndexError:\n",
    "    print(\"Invalid Photo Pls Try Again\")"
   ]
  },
  {
   "cell_type": "code",
   "execution_count": 21,
   "metadata": {},
   "outputs": [
    {
     "name": "stderr",
     "output_type": "stream",
     "text": [
      "\n",
      "0: 416x288 1 ayak, 864.6ms\n",
      "Speed: 1.2ms preprocess, 864.6ms inference, 1.0ms postprocess per image at shape (1, 3, 416, 416)\n"
     ]
    },
    {
     "name": "stdout",
     "output_type": "stream",
     "text": [
      "diff 0.0\n",
      "Class:  0\n"
     ]
    }
   ],
   "source": [
    "from ultralytics import YOLO\n",
    "import cv2\n",
    "\n",
    "model_yolov8x = YOLO(r\"C:\\Users\\ozgur\\bitirmeprojesi\\model\\model_foot_all.pt\")\n",
    "\n",
    "img = cv2.imread(r\"C:\\Users\\ozgur\\bitirmeprojesi\\YoloV8\\all_photos_cutted\\6_image_process\\ex\\1_2.jpeg\")\n",
    "\n",
    "results = model_yolov8x(img)\n",
    "result = results[0]\n",
    "box = result.boxes.xyxy\n",
    "\n",
    "try:\n",
    "    boxes = box[0]\n",
    "    xmin = int(boxes[0])\n",
    "    ymin = int(boxes[1])\n",
    "    xmax = int(boxes[2])\n",
    "    ymax = int(boxes[3])\n",
    "\n",
    "    # Resimdeki en çok hangi piksel değerinden var, o değeri max_pixel değişkenine ata\n",
    "    max_pixel = cv2.cvtColor(img, cv2.COLOR_BGR2GRAY).max()\n",
    "\n",
    "    width = xmax - xmin\n",
    "    mid = (xmin + xmax) // 2\n",
    "    left_half = img[ymin:ymax, xmin:mid]\n",
    "    right_half = img[ymin:ymax, mid:xmax]\n",
    "\n",
    "    # Her yarı kutuda ayağa ait piksel sayısını hesapla\n",
    "    left_count = cv2.countNonZero(cv2.cvtColor(left_half, cv2.COLOR_BGR2GRAY))\n",
    "    right_count = cv2.countNonZero(cv2.cvtColor(right_half, cv2.COLOR_BGR2GRAY))\n",
    "\n",
    "    # Hesapladığın max pixellere göre left_count ve right_count olarak değişkenlere ata\n",
    "    left_count = left_count / max_pixel\n",
    "    right_count = right_count / max_pixel\n",
    "\n",
    "    diff = left_count - right_count\n",
    "    print(\"diff\",diff)\n",
    "\n",
    "    # Ayağın hangi tarafa ait olduğunu belirle ve farkları ekrana yazdır\n",
    "    if diff < -0.7:\n",
    "        class_name = '2'\n",
    "    elif diff >= -0.7 and diff < -0.1:\n",
    "        class_name = '1'\n",
    "    elif diff >= -0.1 and diff <= 0.1:\n",
    "        class_name = '0'\n",
    "    elif diff > 0.1 and diff < 0.7:\n",
    "        class_name = '-1'\n",
    "    elif diff >= 0.7:\n",
    "        class_name = '-2'\n",
    "\n",
    "    # Kutuyu göster\n",
    "    resized_image = cv2.resize(img, (0, 0), fx=0.5, fy=0.5)\n",
    "    cv2.rectangle(img, (int(xmin), int(ymin)), (int(xmax), int(ymax)), (0, 255, 0), 2)\n",
    "    cv2.imshow(\"Image\", img)\n",
    "    cv2.waitKey(0)\n",
    "    cv2.destroyAllWindows()\n",
    "    print(\"Class: \", class_name)\n",
    "except IndexError:\n",
    "    print(\"Invalid Photo Pls Try Again\")\n"
   ]
  },
  {
   "attachments": {},
   "cell_type": "markdown",
   "metadata": {},
   "source": [
    "# Model 4 Sag"
   ]
  },
  {
   "cell_type": "code",
   "execution_count": 1,
   "metadata": {},
   "outputs": [
    {
     "name": "stderr",
     "output_type": "stream",
     "text": [
      "\n",
      "0: 224x160 1 2, 323.7ms\n",
      "Speed: 0.0ms preprocess, 323.7ms inference, 0.0ms postprocess per image at shape (1, 3, 224, 224)\n"
     ]
    },
    {
     "name": "stdout",
     "output_type": "stream",
     "text": [
      "ultralytics.yolo.engine.results.Boxes object with attributes:\n",
      "\n",
      "boxes: tensor([[126.2719, 435.3054, 658.1813, 928.0870,   0.9684,   2.0000]])\n",
      "cls: tensor([2.])\n",
      "conf: tensor([0.9684])\n",
      "data: tensor([[126.2719, 435.3054, 658.1813, 928.0870,   0.9684,   2.0000]])\n",
      "id: None\n",
      "is_track: False\n",
      "orig_shape: tensor([1013,  681])\n",
      "shape: torch.Size([1, 6])\n",
      "xywh: tensor([[392.2266, 681.6962, 531.9094, 492.7816]])\n",
      "xywhn: tensor([[0.5760, 0.6729, 0.7811, 0.4865]])\n",
      "xyxy: tensor([[126.2719, 435.3054, 658.1813, 928.0870]])\n",
      "xyxyn: tensor([[0.1854, 0.4297, 0.9665, 0.9162]])\n",
      "2\n"
     ]
    }
   ],
   "source": [
    "import numpy as np\n",
    "import cv2\n",
    "from ultralytics import YOLO\n",
    "\n",
    "model_yolov8x_4 = YOLO(r\"C:\\Users\\ozgur\\bitirmeprojesi\\model\\weights_3_776.pt\")\n",
    "\n",
    "img = cv2.imread(r\"C:\\Users\\ozgur\\bitirmeprojesi\\YoloV8\\all_photos_cutted_resized\\Model_4\\2\\2_5.jpg\")\n",
    "\n",
    "results = model_yolov8x_4(img)\n",
    "result = results[0]\n",
    "print(result.boxes)\n",
    "cls = str(int(result.boxes.cls[0]))\n",
    "\n",
    "if cls == '2':\n",
    "    class_name = '2'\n",
    "elif cls == '4':\n",
    "    class_name = '-2'\n",
    "elif cls == '1':\n",
    "    class_name = '1'\n",
    "elif cls == '0':\n",
    "    class_name = '0'\n",
    "elif cls == '3':\n",
    "    class_name = '-1'\n",
    "\n",
    "print(class_name)\n"
   ]
  }
 ],
 "metadata": {
  "kernelspec": {
   "display_name": "Python 3",
   "language": "python",
   "name": "python3"
  },
  "language_info": {
   "codemirror_mode": {
    "name": "ipython",
    "version": 3
   },
   "file_extension": ".py",
   "mimetype": "text/x-python",
   "name": "python",
   "nbconvert_exporter": "python",
   "pygments_lexer": "ipython3",
   "version": "3.9.6"
  },
  "orig_nbformat": 4
 },
 "nbformat": 4,
 "nbformat_minor": 2
}
